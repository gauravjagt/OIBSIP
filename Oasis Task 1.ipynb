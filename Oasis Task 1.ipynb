{
 "cells": [
  {
   "cell_type": "markdown",
   "id": "e101b280",
   "metadata": {},
   "source": [
    "<h3>Gaurav Jagtap</h3>\n",
    "<h1>Oasis Task 1 Iris flower Classification</h1>"
   ]
  },
  {
   "cell_type": "code",
   "execution_count": 28,
   "id": "2e644b2c",
   "metadata": {},
   "outputs": [],
   "source": [
    "import numpy as np  \n",
    "import matplotlib.pyplot as plt   \n",
    "import seaborn as sns  \n",
    "import pandas as pd"
   ]
  },
  {
   "cell_type": "markdown",
   "id": "9979a032",
   "metadata": {},
   "source": [
    "<h2>Import Dataset</h2>"
   ]
  },
  {
   "cell_type": "code",
   "execution_count": 29,
   "id": "854f4c46",
   "metadata": {},
   "outputs": [
    {
     "data": {
      "text/html": [
       "<div>\n",
       "<style scoped>\n",
       "    .dataframe tbody tr th:only-of-type {\n",
       "        vertical-align: middle;\n",
       "    }\n",
       "\n",
       "    .dataframe tbody tr th {\n",
       "        vertical-align: top;\n",
       "    }\n",
       "\n",
       "    .dataframe thead th {\n",
       "        text-align: right;\n",
       "    }\n",
       "</style>\n",
       "<table border=\"1\" class=\"dataframe\">\n",
       "  <thead>\n",
       "    <tr style=\"text-align: right;\">\n",
       "      <th></th>\n",
       "      <th>Id</th>\n",
       "      <th>SepalLengthCm</th>\n",
       "      <th>SepalWidthCm</th>\n",
       "      <th>PetalLengthCm</th>\n",
       "      <th>PetalWidthCm</th>\n",
       "      <th>Species</th>\n",
       "    </tr>\n",
       "  </thead>\n",
       "  <tbody>\n",
       "    <tr>\n",
       "      <th>0</th>\n",
       "      <td>1</td>\n",
       "      <td>5.1</td>\n",
       "      <td>3.5</td>\n",
       "      <td>1.4</td>\n",
       "      <td>0.2</td>\n",
       "      <td>Iris-setosa</td>\n",
       "    </tr>\n",
       "    <tr>\n",
       "      <th>1</th>\n",
       "      <td>2</td>\n",
       "      <td>4.9</td>\n",
       "      <td>3.0</td>\n",
       "      <td>1.4</td>\n",
       "      <td>0.2</td>\n",
       "      <td>Iris-setosa</td>\n",
       "    </tr>\n",
       "    <tr>\n",
       "      <th>2</th>\n",
       "      <td>3</td>\n",
       "      <td>4.7</td>\n",
       "      <td>3.2</td>\n",
       "      <td>1.3</td>\n",
       "      <td>0.2</td>\n",
       "      <td>Iris-setosa</td>\n",
       "    </tr>\n",
       "    <tr>\n",
       "      <th>3</th>\n",
       "      <td>4</td>\n",
       "      <td>4.6</td>\n",
       "      <td>3.1</td>\n",
       "      <td>1.5</td>\n",
       "      <td>0.2</td>\n",
       "      <td>Iris-setosa</td>\n",
       "    </tr>\n",
       "    <tr>\n",
       "      <th>4</th>\n",
       "      <td>5</td>\n",
       "      <td>5.0</td>\n",
       "      <td>3.6</td>\n",
       "      <td>1.4</td>\n",
       "      <td>0.2</td>\n",
       "      <td>Iris-setosa</td>\n",
       "    </tr>\n",
       "  </tbody>\n",
       "</table>\n",
       "</div>"
      ],
      "text/plain": [
       "   Id  SepalLengthCm  SepalWidthCm  PetalLengthCm  PetalWidthCm      Species\n",
       "0   1            5.1           3.5            1.4           0.2  Iris-setosa\n",
       "1   2            4.9           3.0            1.4           0.2  Iris-setosa\n",
       "2   3            4.7           3.2            1.3           0.2  Iris-setosa\n",
       "3   4            4.6           3.1            1.5           0.2  Iris-setosa\n",
       "4   5            5.0           3.6            1.4           0.2  Iris-setosa"
      ]
     },
     "execution_count": 29,
     "metadata": {},
     "output_type": "execute_result"
    }
   ],
   "source": [
    "df = pd.read_csv('Iris.csv')\n",
    "df.head()"
   ]
  },
  {
   "cell_type": "markdown",
   "id": "0e38e868",
   "metadata": {},
   "source": [
    "<h2>Data Visualization</h2>"
   ]
  },
  {
   "cell_type": "code",
   "execution_count": 30,
   "id": "1bfed473",
   "metadata": {},
   "outputs": [
    {
     "data": {
      "text/html": [
       "<div>\n",
       "<style scoped>\n",
       "    .dataframe tbody tr th:only-of-type {\n",
       "        vertical-align: middle;\n",
       "    }\n",
       "\n",
       "    .dataframe tbody tr th {\n",
       "        vertical-align: top;\n",
       "    }\n",
       "\n",
       "    .dataframe thead th {\n",
       "        text-align: right;\n",
       "    }\n",
       "</style>\n",
       "<table border=\"1\" class=\"dataframe\">\n",
       "  <thead>\n",
       "    <tr style=\"text-align: right;\">\n",
       "      <th></th>\n",
       "      <th>Id</th>\n",
       "      <th>SepalLengthCm</th>\n",
       "      <th>SepalWidthCm</th>\n",
       "      <th>PetalLengthCm</th>\n",
       "      <th>PetalWidthCm</th>\n",
       "    </tr>\n",
       "  </thead>\n",
       "  <tbody>\n",
       "    <tr>\n",
       "      <th>count</th>\n",
       "      <td>150.000000</td>\n",
       "      <td>150.000000</td>\n",
       "      <td>150.000000</td>\n",
       "      <td>150.000000</td>\n",
       "      <td>150.000000</td>\n",
       "    </tr>\n",
       "    <tr>\n",
       "      <th>mean</th>\n",
       "      <td>75.500000</td>\n",
       "      <td>5.843333</td>\n",
       "      <td>3.054000</td>\n",
       "      <td>3.758667</td>\n",
       "      <td>1.198667</td>\n",
       "    </tr>\n",
       "    <tr>\n",
       "      <th>std</th>\n",
       "      <td>43.445368</td>\n",
       "      <td>0.828066</td>\n",
       "      <td>0.433594</td>\n",
       "      <td>1.764420</td>\n",
       "      <td>0.763161</td>\n",
       "    </tr>\n",
       "    <tr>\n",
       "      <th>min</th>\n",
       "      <td>1.000000</td>\n",
       "      <td>4.300000</td>\n",
       "      <td>2.000000</td>\n",
       "      <td>1.000000</td>\n",
       "      <td>0.100000</td>\n",
       "    </tr>\n",
       "    <tr>\n",
       "      <th>25%</th>\n",
       "      <td>38.250000</td>\n",
       "      <td>5.100000</td>\n",
       "      <td>2.800000</td>\n",
       "      <td>1.600000</td>\n",
       "      <td>0.300000</td>\n",
       "    </tr>\n",
       "    <tr>\n",
       "      <th>50%</th>\n",
       "      <td>75.500000</td>\n",
       "      <td>5.800000</td>\n",
       "      <td>3.000000</td>\n",
       "      <td>4.350000</td>\n",
       "      <td>1.300000</td>\n",
       "    </tr>\n",
       "    <tr>\n",
       "      <th>75%</th>\n",
       "      <td>112.750000</td>\n",
       "      <td>6.400000</td>\n",
       "      <td>3.300000</td>\n",
       "      <td>5.100000</td>\n",
       "      <td>1.800000</td>\n",
       "    </tr>\n",
       "    <tr>\n",
       "      <th>max</th>\n",
       "      <td>150.000000</td>\n",
       "      <td>7.900000</td>\n",
       "      <td>4.400000</td>\n",
       "      <td>6.900000</td>\n",
       "      <td>2.500000</td>\n",
       "    </tr>\n",
       "  </tbody>\n",
       "</table>\n",
       "</div>"
      ],
      "text/plain": [
       "               Id  SepalLengthCm  SepalWidthCm  PetalLengthCm  PetalWidthCm\n",
       "count  150.000000     150.000000    150.000000     150.000000    150.000000\n",
       "mean    75.500000       5.843333      3.054000       3.758667      1.198667\n",
       "std     43.445368       0.828066      0.433594       1.764420      0.763161\n",
       "min      1.000000       4.300000      2.000000       1.000000      0.100000\n",
       "25%     38.250000       5.100000      2.800000       1.600000      0.300000\n",
       "50%     75.500000       5.800000      3.000000       4.350000      1.300000\n",
       "75%    112.750000       6.400000      3.300000       5.100000      1.800000\n",
       "max    150.000000       7.900000      4.400000       6.900000      2.500000"
      ]
     },
     "execution_count": 30,
     "metadata": {},
     "output_type": "execute_result"
    }
   ],
   "source": [
    "df.describe()"
   ]
  },
  {
   "cell_type": "markdown",
   "id": "2dd6c0f7",
   "metadata": {},
   "source": [
    "<h2>Visualize whole Dataset</h2>"
   ]
  },
  {
   "cell_type": "code",
   "execution_count": 31,
   "id": "3d9e71c8",
   "metadata": {},
   "outputs": [
    {
     "data": {
      "text/plain": [
       "<seaborn.axisgrid.PairGrid at 0x16340d7a8b0>"
      ]
     },
     "execution_count": 31,
     "metadata": {},
     "output_type": "execute_result"
    }
   ],
   "source": [
    "sns.pairplot(df, hue='Species')   #pairwise plotting"
   ]
  },
  {
   "cell_type": "markdown",
   "id": "04fc4fd1",
   "metadata": {},
   "source": [
    "<h2>Seperating input columns and output columns</h2>"
   ]
  },
  {
   "cell_type": "code",
   "execution_count": 32,
   "id": "2d688c88",
   "metadata": {},
   "outputs": [
    {
     "name": "stdout",
     "output_type": "stream",
     "text": [
      "[[1 5.1 3.5 1.4]\n",
      " [2 4.9 3.0 1.4]\n",
      " [3 4.7 3.2 1.3]\n",
      " [4 4.6 3.1 1.5]\n",
      " [5 5.0 3.6 1.4]\n",
      " [6 5.4 3.9 1.7]\n",
      " [7 4.6 3.4 1.4]\n",
      " [8 5.0 3.4 1.5]\n",
      " [9 4.4 2.9 1.4]\n",
      " [10 4.9 3.1 1.5]\n",
      " [11 5.4 3.7 1.5]\n",
      " [12 4.8 3.4 1.6]\n",
      " [13 4.8 3.0 1.4]\n",
      " [14 4.3 3.0 1.1]\n",
      " [15 5.8 4.0 1.2]\n",
      " [16 5.7 4.4 1.5]\n",
      " [17 5.4 3.9 1.3]\n",
      " [18 5.1 3.5 1.4]\n",
      " [19 5.7 3.8 1.7]\n",
      " [20 5.1 3.8 1.5]\n",
      " [21 5.4 3.4 1.7]\n",
      " [22 5.1 3.7 1.5]\n",
      " [23 4.6 3.6 1.0]\n",
      " [24 5.1 3.3 1.7]\n",
      " [25 4.8 3.4 1.9]\n",
      " [26 5.0 3.0 1.6]\n",
      " [27 5.0 3.4 1.6]\n",
      " [28 5.2 3.5 1.5]\n",
      " [29 5.2 3.4 1.4]\n",
      " [30 4.7 3.2 1.6]\n",
      " [31 4.8 3.1 1.6]\n",
      " [32 5.4 3.4 1.5]\n",
      " [33 5.2 4.1 1.5]\n",
      " [34 5.5 4.2 1.4]\n",
      " [35 4.9 3.1 1.5]\n",
      " [36 5.0 3.2 1.2]\n",
      " [37 5.5 3.5 1.3]\n",
      " [38 4.9 3.1 1.5]\n",
      " [39 4.4 3.0 1.3]\n",
      " [40 5.1 3.4 1.5]\n",
      " [41 5.0 3.5 1.3]\n",
      " [42 4.5 2.3 1.3]\n",
      " [43 4.4 3.2 1.3]\n",
      " [44 5.0 3.5 1.6]\n",
      " [45 5.1 3.8 1.9]\n",
      " [46 4.8 3.0 1.4]\n",
      " [47 5.1 3.8 1.6]\n",
      " [48 4.6 3.2 1.4]\n",
      " [49 5.3 3.7 1.5]\n",
      " [50 5.0 3.3 1.4]\n",
      " [51 7.0 3.2 4.7]\n",
      " [52 6.4 3.2 4.5]\n",
      " [53 6.9 3.1 4.9]\n",
      " [54 5.5 2.3 4.0]\n",
      " [55 6.5 2.8 4.6]\n",
      " [56 5.7 2.8 4.5]\n",
      " [57 6.3 3.3 4.7]\n",
      " [58 4.9 2.4 3.3]\n",
      " [59 6.6 2.9 4.6]\n",
      " [60 5.2 2.7 3.9]\n",
      " [61 5.0 2.0 3.5]\n",
      " [62 5.9 3.0 4.2]\n",
      " [63 6.0 2.2 4.0]\n",
      " [64 6.1 2.9 4.7]\n",
      " [65 5.6 2.9 3.6]\n",
      " [66 6.7 3.1 4.4]\n",
      " [67 5.6 3.0 4.5]\n",
      " [68 5.8 2.7 4.1]\n",
      " [69 6.2 2.2 4.5]\n",
      " [70 5.6 2.5 3.9]\n",
      " [71 5.9 3.2 4.8]\n",
      " [72 6.1 2.8 4.0]\n",
      " [73 6.3 2.5 4.9]\n",
      " [74 6.1 2.8 4.7]\n",
      " [75 6.4 2.9 4.3]\n",
      " [76 6.6 3.0 4.4]\n",
      " [77 6.8 2.8 4.8]\n",
      " [78 6.7 3.0 5.0]\n",
      " [79 6.0 2.9 4.5]\n",
      " [80 5.7 2.6 3.5]\n",
      " [81 5.5 2.4 3.8]\n",
      " [82 5.5 2.4 3.7]\n",
      " [83 5.8 2.7 3.9]\n",
      " [84 6.0 2.7 5.1]\n",
      " [85 5.4 3.0 4.5]\n",
      " [86 6.0 3.4 4.5]\n",
      " [87 6.7 3.1 4.7]\n",
      " [88 6.3 2.3 4.4]\n",
      " [89 5.6 3.0 4.1]\n",
      " [90 5.5 2.5 4.0]\n",
      " [91 5.5 2.6 4.4]\n",
      " [92 6.1 3.0 4.6]\n",
      " [93 5.8 2.6 4.0]\n",
      " [94 5.0 2.3 3.3]\n",
      " [95 5.6 2.7 4.2]\n",
      " [96 5.7 3.0 4.2]\n",
      " [97 5.7 2.9 4.2]\n",
      " [98 6.2 2.9 4.3]\n",
      " [99 5.1 2.5 3.0]\n",
      " [100 5.7 2.8 4.1]\n",
      " [101 6.3 3.3 6.0]\n",
      " [102 5.8 2.7 5.1]\n",
      " [103 7.1 3.0 5.9]\n",
      " [104 6.3 2.9 5.6]\n",
      " [105 6.5 3.0 5.8]\n",
      " [106 7.6 3.0 6.6]\n",
      " [107 4.9 2.5 4.5]\n",
      " [108 7.3 2.9 6.3]\n",
      " [109 6.7 2.5 5.8]\n",
      " [110 7.2 3.6 6.1]\n",
      " [111 6.5 3.2 5.1]\n",
      " [112 6.4 2.7 5.3]\n",
      " [113 6.8 3.0 5.5]\n",
      " [114 5.7 2.5 5.0]\n",
      " [115 5.8 2.8 5.1]\n",
      " [116 6.4 3.2 5.3]\n",
      " [117 6.5 3.0 5.5]\n",
      " [118 7.7 3.8 6.7]\n",
      " [119 7.7 2.6 6.9]\n",
      " [120 6.0 2.2 5.0]\n",
      " [121 6.9 3.2 5.7]\n",
      " [122 5.6 2.8 4.9]\n",
      " [123 7.7 2.8 6.7]\n",
      " [124 6.3 2.7 4.9]\n",
      " [125 6.7 3.3 5.7]\n",
      " [126 7.2 3.2 6.0]\n",
      " [127 6.2 2.8 4.8]\n",
      " [128 6.1 3.0 4.9]\n",
      " [129 6.4 2.8 5.6]\n",
      " [130 7.2 3.0 5.8]\n",
      " [131 7.4 2.8 6.1]\n",
      " [132 7.9 3.8 6.4]\n",
      " [133 6.4 2.8 5.6]\n",
      " [134 6.3 2.8 5.1]\n",
      " [135 6.1 2.6 5.6]\n",
      " [136 7.7 3.0 6.1]\n",
      " [137 6.3 3.4 5.6]\n",
      " [138 6.4 3.1 5.5]\n",
      " [139 6.0 3.0 4.8]\n",
      " [140 6.9 3.1 5.4]\n",
      " [141 6.7 3.1 5.6]\n",
      " [142 6.9 3.1 5.1]\n",
      " [143 5.8 2.7 5.1]\n",
      " [144 6.8 3.2 5.9]\n",
      " [145 6.7 3.3 5.7]\n",
      " [146 6.7 3.0 5.2]\n",
      " [147 6.3 2.5 5.0]\n",
      " [148 6.5 3.0 5.2]\n",
      " [149 6.2 3.4 5.4]\n",
      " [150 5.9 3.0 5.1]]\n"
     ]
    }
   ],
   "source": [
    "data = df.values \n",
    "x = data[:,0:4]  \n",
    "y = data[:,4]      \n",
    "print(x)  "
   ]
  },
  {
   "cell_type": "markdown",
   "id": "d740f449",
   "metadata": {},
   "source": [
    "<h2>Splitting data into training and testing</h2>"
   ]
  },
  {
   "cell_type": "code",
   "execution_count": 33,
   "id": "21d59537",
   "metadata": {},
   "outputs": [
    {
     "name": "stderr",
     "output_type": "stream",
     "text": [
      "C:\\Users\\USER\\anaconda3\\lib\\site-packages\\sklearn\\linear_model\\_logistic.py:814: ConvergenceWarning: lbfgs failed to converge (status=1):\n",
      "STOP: TOTAL NO. of ITERATIONS REACHED LIMIT.\n",
      "\n",
      "Increase the number of iterations (max_iter) or scale the data as shown in:\n",
      "    https://scikit-learn.org/stable/modules/preprocessing.html\n",
      "Please also refer to the documentation for alternative solver options:\n",
      "    https://scikit-learn.org/stable/modules/linear_model.html#logistic-regression\n",
      "  n_iter_i = _check_optimize_result(\n"
     ]
    },
    {
     "data": {
      "text/plain": [
       "LogisticRegression()"
      ]
     },
     "execution_count": 33,
     "metadata": {},
     "output_type": "execute_result"
    }
   ],
   "source": [
    "X = df.drop('Species' ,axis=1)\n",
    "y = df['Species']\n",
    "from sklearn.model_selection import train_test_split    #scikit\n",
    "X_train, X_test, y_train, y_test = train_test_split(X, y, test_size = 30, random_state = 21)\n",
    "from sklearn.linear_model import LogisticRegression\n",
    "lr = LogisticRegression()\n",
    "lr.fit(X_train, y_train)"
   ]
  },
  {
   "cell_type": "markdown",
   "id": "c1645152",
   "metadata": {},
   "source": [
    "<h2>Prediction And Accuracy</h2>"
   ]
  },
  {
   "cell_type": "code",
   "execution_count": 34,
   "id": "1bafb1d6",
   "metadata": {},
   "outputs": [
    {
     "name": "stdout",
     "output_type": "stream",
     "text": [
      "Accuracy:  100.0\n"
     ]
    }
   ],
   "source": [
    "lr_pred = lr.predict(X_test)\n",
    "from sklearn.metrics import accuracy_score,classification_report,confusion_matrix\n",
    "print(\"Accuracy: \", accuracy_score(lr_pred,y_test)*100)"
   ]
  },
  {
   "cell_type": "code",
   "execution_count": 35,
   "id": "c26e5191",
   "metadata": {},
   "outputs": [
    {
     "data": {
      "text/plain": [
       "array([[11,  0,  0],\n",
       "       [ 0, 12,  0],\n",
       "       [ 0,  0,  7]], dtype=int64)"
      ]
     },
     "execution_count": 35,
     "metadata": {},
     "output_type": "execute_result"
    }
   ],
   "source": [
    "confusion_matrix(lr_pred, y_test)"
   ]
  },
  {
   "cell_type": "markdown",
   "id": "91b56943",
   "metadata": {},
   "source": [
    "<h2>Classification</h2>"
   ]
  },
  {
   "cell_type": "code",
   "execution_count": 36,
   "id": "8fc1889e",
   "metadata": {},
   "outputs": [
    {
     "name": "stdout",
     "output_type": "stream",
     "text": [
      "                 precision    recall  f1-score   support\n",
      "\n",
      "    Iris-setosa       1.00      1.00      1.00        11\n",
      "Iris-versicolor       1.00      1.00      1.00        12\n",
      " Iris-virginica       1.00      1.00      1.00         7\n",
      "\n",
      "       accuracy                           1.00        30\n",
      "      macro avg       1.00      1.00      1.00        30\n",
      "   weighted avg       1.00      1.00      1.00        30\n",
      "\n"
     ]
    }
   ],
   "source": [
    "print(classification_report(lr_pred, y_test))"
   ]
  },
  {
   "cell_type": "code",
   "execution_count": null,
   "id": "d423ea9e",
   "metadata": {},
   "outputs": [],
   "source": []
  }
 ],
 "metadata": {
  "kernelspec": {
   "display_name": "Python 3 (ipykernel)",
   "language": "python",
   "name": "python3"
  },
  "language_info": {
   "codemirror_mode": {
    "name": "ipython",
    "version": 3
   },
   "file_extension": ".py",
   "mimetype": "text/x-python",
   "name": "python",
   "nbconvert_exporter": "python",
   "pygments_lexer": "ipython3",
   "version": "3.9.13"
  }
 },
 "nbformat": 4,
 "nbformat_minor": 5
}
